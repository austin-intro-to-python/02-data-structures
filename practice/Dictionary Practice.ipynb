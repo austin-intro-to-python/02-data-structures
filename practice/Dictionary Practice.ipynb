{
 "cells": [
  {
   "cell_type": "markdown",
   "metadata": {},
   "source": [
    "# Write your own dictionary"
   ]
  },
  {
   "cell_type": "markdown",
   "metadata": {},
   "source": [
    "Try creating your own dictionary!\n",
    "Think about a set of objects with a simple nested structure (like pro sports teams, zoo animals, or geographic locations) and then build a dictionary around it. An example is given below -- but get creative!"
   ]
  },
  {
   "cell_type": "code",
   "execution_count": 1,
   "metadata": {},
   "outputs": [],
   "source": [
    "# Let's create a dictionary about cities.\n",
    "cities = {}"
   ]
  },
  {
   "cell_type": "code",
   "execution_count": 2,
   "metadata": {},
   "outputs": [],
   "source": [
    "# Its first key is Europe. Let's make it an empty list.\n",
    "cities['Europe']=[]"
   ]
  },
  {
   "cell_type": "code",
   "execution_count": 3,
   "metadata": {},
   "outputs": [
    {
     "data": {
      "text/plain": [
       "{'Europe': ['Rome', 'Paris', 'Berlin', 'London']}"
      ]
     },
     "execution_count": 3,
     "metadata": {},
     "output_type": "execute_result"
    }
   ],
   "source": [
    "# Now append some values to it.\n",
    "for city in ['Rome', 'Paris', 'Berlin', 'London']:\n",
    "    cities['Europe'].append(city)\n",
    "cities"
   ]
  },
  {
   "cell_type": "code",
   "execution_count": 4,
   "metadata": {},
   "outputs": [],
   "source": [
    "# Its second key is the USA.\n",
    "cities['USA']={}"
   ]
  },
  {
   "cell_type": "code",
   "execution_count": 5,
   "metadata": {},
   "outputs": [],
   "source": [
    "# Let's make each USA city an empty dictionary\n",
    "cities['USA']['NYC']={}\n",
    "cities['USA']['DC']={}\n",
    "cities['USA']['Chicago']={}"
   ]
  },
  {
   "cell_type": "markdown",
   "metadata": {},
   "source": [
    "#### USA Cities: Landmarks\n",
    "We could do this with a for-loop, but let's just repeat our code for now."
   ]
  },
  {
   "cell_type": "code",
   "execution_count": 6,
   "metadata": {},
   "outputs": [],
   "source": [
    "cities['USA']['NYC']['Landmarks']=['Central Park', 'Broadway', 'Flatiron Building']\n",
    "cities['USA']['DC']['Landmarks']=['White House', 'Washington Monument', 'Spy Museum']\n",
    "cities['USA']['Chicago']['Landmarks']=['Lake Michigan', 'Wrigley Field', 'Science Museum', 'Navy Pier']"
   ]
  },
  {
   "cell_type": "code",
   "execution_count": 7,
   "metadata": {},
   "outputs": [
    {
     "data": {
      "text/plain": [
       "{'Europe': ['Rome', 'Paris', 'Berlin', 'London'],\n",
       " 'USA': {'NYC': {'Landmarks': ['Central Park',\n",
       "    'Broadway',\n",
       "    'Flatiron Building']},\n",
       "  'DC': {'Landmarks': ['White House', 'Washington Monument', 'Spy Museum']},\n",
       "  'Chicago': {'Landmarks': ['Lake Michigan',\n",
       "    'Wrigley Field',\n",
       "    'Science Museum',\n",
       "    'Navy Pier']}}}"
      ]
     },
     "execution_count": 7,
     "metadata": {},
     "output_type": "execute_result"
    }
   ],
   "source": [
    "# What does our dictionary look like now?\n",
    "cities"
   ]
  },
  {
   "cell_type": "markdown",
   "metadata": {},
   "source": [
    "#### Now let's add some food"
   ]
  },
  {
   "cell_type": "code",
   "execution_count": 9,
   "metadata": {},
   "outputs": [],
   "source": [
    "cities['USA']['NYC']['Food']='Hot Dogs'\n",
    "cities['USA']['DC']['Food']=\"Ben's Chili Bowl\"\n",
    "cities['USA']['Chicago']['Food']='Deep Dish Pizza'"
   ]
  },
  {
   "cell_type": "markdown",
   "metadata": {},
   "source": [
    "#### Finally, a few numbers, just to show it's not all about the strings."
   ]
  },
  {
   "cell_type": "code",
   "execution_count": 8,
   "metadata": {},
   "outputs": [],
   "source": [
    "cities['USA']['NYC']['Numbers']=(42, \"Jackie Robinson\")\n",
    "cities['USA']['DC']['Numbers']=(16, 'Abraham Lincoln')\n",
    "cities['USA']['Chicago']['Numbers']=(6, 'NBA Championships')"
   ]
  },
  {
   "cell_type": "markdown",
   "metadata": {},
   "source": [
    "#### Okay, let's take a look at the finished product."
   ]
  },
  {
   "cell_type": "code",
   "execution_count": 10,
   "metadata": {},
   "outputs": [
    {
     "data": {
      "text/plain": [
       "{'Europe': ['Rome', 'Paris', 'Berlin', 'London'],\n",
       " 'USA': {'NYC': {'Landmarks': ['Central Park',\n",
       "    'Broadway',\n",
       "    'Flatiron Building'],\n",
       "   'Numbers': (42, 'Jackie Robinson'),\n",
       "   'Food': 'Hot Dogs'},\n",
       "  'DC': {'Landmarks': ['White House', 'Washington Monument', 'Spy Museum'],\n",
       "   'Numbers': (16, 'Abraham Lincoln'),\n",
       "   'Food': \"Ben's Chili Bowl\"},\n",
       "  'Chicago': {'Landmarks': ['Lake Michigan',\n",
       "    'Wrigley Field',\n",
       "    'Science Museum',\n",
       "    'Navy Pier'],\n",
       "   'Numbers': (6, 'NBA Championships'),\n",
       "   'Food': 'Deep Dish Pizza'}}}"
      ]
     },
     "execution_count": 10,
     "metadata": {},
     "output_type": "execute_result"
    }
   ],
   "source": [
    "cities"
   ]
  },
  {
   "cell_type": "code",
   "execution_count": 13,
   "metadata": {},
   "outputs": [
    {
     "data": {
      "text/plain": [
       "dict_keys(['Europe', 'USA'])"
      ]
     },
     "execution_count": 13,
     "metadata": {},
     "output_type": "execute_result"
    }
   ],
   "source": [
    "# Call the keys.\n",
    "cities.keys()"
   ]
  },
  {
   "cell_type": "code",
   "execution_count": 16,
   "metadata": {},
   "outputs": [
    {
     "data": {
      "text/plain": [
       "['Rome', 'Paris', 'Berlin']"
      ]
     },
     "execution_count": 16,
     "metadata": {},
     "output_type": "execute_result"
    }
   ],
   "source": [
    "# Show a list 3 out of the 4 European cities.\n",
    "cities['Europe'][:3]"
   ]
  },
  {
   "cell_type": "code",
   "execution_count": 18,
   "metadata": {},
   "outputs": [
    {
     "data": {
      "text/plain": [
       "['NYC', 'DC', 'Chicago']"
      ]
     },
     "execution_count": 18,
     "metadata": {},
     "output_type": "execute_result"
    }
   ],
   "source": [
    "# Create a list of the American cities\n",
    "list(cities['USA'].keys())"
   ]
  },
  {
   "cell_type": "code",
   "execution_count": 19,
   "metadata": {},
   "outputs": [
    {
     "data": {
      "text/plain": [
       "['Landmarks', 'Numbers', 'Food']"
      ]
     },
     "execution_count": 19,
     "metadata": {},
     "output_type": "execute_result"
    }
   ],
   "source": [
    "# Create a list of the keys for Chicago.\n",
    "list(cities['USA']['Chicago'].keys())"
   ]
  },
  {
   "cell_type": "code",
   "execution_count": 20,
   "metadata": {},
   "outputs": [
    {
     "data": {
      "text/plain": [
       "'Deep Dish Pizza'"
      ]
     },
     "execution_count": 20,
     "metadata": {},
     "output_type": "execute_result"
    }
   ],
   "source": [
    "# What type of food is famous in Chicago?\n",
    "cities['USA']['Chicago']['Food']"
   ]
  },
  {
   "cell_type": "code",
   "execution_count": 22,
   "metadata": {},
   "outputs": [
    {
     "data": {
      "text/plain": [
       "['Central Park', 'Broadway', 'Flatiron Building']"
      ]
     },
     "execution_count": 22,
     "metadata": {},
     "output_type": "execute_result"
    }
   ],
   "source": [
    "# Call just the NYC Landmarks\n",
    "cities['USA']['NYC']['Landmarks']"
   ]
  },
  {
   "cell_type": "code",
   "execution_count": 24,
   "metadata": {},
   "outputs": [
    {
     "name": "stdout",
     "output_type": "stream",
     "text": [
      "['Central Park', 'Broadway', 'Flatiron Building']\n",
      "['White House', 'Washington Monument', 'Spy Museum']\n",
      "['Lake Michigan', 'Wrigley Field', 'Science Museum', 'Navy Pier']\n"
     ]
    }
   ],
   "source": [
    "# Now call all the landmarks, for all the USA cities\n",
    "for famous_city in ['NYC', 'DC', 'Chicago']:\n",
    "    print(cities['USA'][famous_city]['Landmarks'])"
   ]
  },
  {
   "cell_type": "markdown",
   "metadata": {},
   "source": [
    "### Congratulations! Now show your own dictionary."
   ]
  },
  {
   "cell_type": "code",
   "execution_count": null,
   "metadata": {},
   "outputs": [],
   "source": []
  }
 ],
 "metadata": {
  "kernelspec": {
   "display_name": "Python 3",
   "language": "python",
   "name": "python3"
  },
  "language_info": {
   "codemirror_mode": {
    "name": "ipython",
    "version": 3
   },
   "file_extension": ".py",
   "mimetype": "text/x-python",
   "name": "python",
   "nbconvert_exporter": "python",
   "pygments_lexer": "ipython3",
   "version": "3.6.7"
  }
 },
 "nbformat": 4,
 "nbformat_minor": 2
}
